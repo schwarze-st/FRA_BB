{
 "cells": [
  {
   "cell_type": "code",
   "execution_count": 1,
   "metadata": {},
   "outputs": [],
   "source": [
    "import pandas as pd"
   ]
  },
  {
   "cell_type": "code",
   "execution_count": 4,
   "metadata": {},
   "outputs": [],
   "source": [
    "with open('root_node_analysis_log') as f:\n",
    "     content = f.readlines()\n",
    "\n",
    "eq_constrained = []\n",
    "for line in content:\n",
    "     if 'testing problem' in line:\n",
    "         line = line.split()\n",
    "         stat = line[-1]\n",
    "     elif 'equality' in line:\n",
    "         eq_constrained.append(stat)"
   ]
  },
  {
   "cell_type": "code",
   "execution_count": 6,
   "metadata": {},
   "outputs": [
    {
     "data": {
      "text/plain": [
       "{'30n20b8.mps',\n",
       " 'air05.mps',\n",
       " 'assign1-5-8.mps',\n",
       " 'bab6.mps',\n",
       " 'blp-ar98.mps',\n",
       " 'brazil3.mps',\n",
       " 'chromaticindex512-7.mps',\n",
       " 'comp07-2idx.mps',\n",
       " 'comp21-2idx.mps',\n",
       " 'csched007.mps',\n",
       " 'csched008.mps',\n",
       " 'dano3_3.mps',\n",
       " 'dano3_5.mps',\n",
       " 'drayage-100-23.mps',\n",
       " 'dws008-01.mps',\n",
       " 'fastxgemm-n2r6s0t2.mps',\n",
       " 'gmu-35-40.mps',\n",
       " 'gmu-35-50.mps',\n",
       " 'ic97_potential.mps',\n",
       " 'istanbul-no-cutoff.mps',\n",
       " 'mad.mps',\n",
       " 'mcsched.mps',\n",
       " 'mzzv11.mps',\n",
       " 'mzzv42z.mps',\n",
       " 'n2seq36q.mps',\n",
       " 'neos-1456979.mps',\n",
       " 'neos-2657525-crna.mps',\n",
       " 'neos-2978193-inde.mps',\n",
       " 'neos-3555904-turama.mps',\n",
       " 'neos-4300652-rahue.mps',\n",
       " 'neos-4413714-turia.mps',\n",
       " 'neos-4722843-widden.mps',\n",
       " 'neos-4738912-atrato.mps',\n",
       " 'neos-4763324-toguru.mps',\n",
       " 'neos-5188808-nattai.mps',\n",
       " 'neos-5195221-niemur.mps',\n",
       " 'neos-848589.mps',\n",
       " 'neos-860300.mps',\n",
       " 'neos-911970.mps',\n",
       " 'neos-950242.mps',\n",
       " 'neos8.mps',\n",
       " 'neos859080.mps',\n",
       " 'netdiversion.mps',\n",
       " 'ns1208400.mps',\n",
       " 'ns1830653.mps',\n",
       " 'ns1952667.mps',\n",
       " 'nursesched-sprint02.mps',\n",
       " 'pg.mps',\n",
       " 'piperout-08.mps',\n",
       " 'piperout-27.mps',\n",
       " 'pk1.mps',\n",
       " 'qap10.mps',\n",
       " 'radiationm40-10-02.mps',\n",
       " 'rd-rplusc-21.mps',\n",
       " 'rmatr100-p10.mps',\n",
       " 'rmatr200-p5.mps',\n",
       " 'rocI-4-11.mps',\n",
       " 'rocII-5-11.mps',\n",
       " 'rococoB10-011000.mps',\n",
       " 'sct2.mps',\n",
       " 'sing326.mps',\n",
       " 'sing44.mps',\n",
       " 'snp-02-004-104.mps',\n",
       " 'sp97ar.mps',\n",
       " 'square41.mps',\n",
       " 'square47.mps',\n",
       " 'supportcase18.mps',\n",
       " 'supportcase33.mps',\n",
       " 'tbfp-network.mps',\n",
       " 'traininstance2.mps',\n",
       " 'traininstance6.mps',\n",
       " 'trento1.mps',\n",
       " 'triptim1.mps',\n",
       " 'uccase9.mps',\n",
       " 'wachplan.mps'}"
      ]
     },
     "execution_count": 6,
     "metadata": {},
     "output_type": "execute_result"
    }
   ],
   "source": [
    "set(eq_constrained)"
   ]
  },
  {
   "cell_type": "markdown",
   "metadata": {},
   "source": [
    "Linux-Command for moving files: \n",
    "\n",
    "    for file in $(<problems_list); do mv /home/christoph/PycharmProjects/fra_bb/benchmark/$file     /home/christoph/PycharmProjects/fra_bb/eq_constr_problems; done\n"
   ]
  }
 ],
 "metadata": {
  "kernelspec": {
   "display_name": "Python 3",
   "language": "python",
   "name": "python3"
  },
  "language_info": {
   "codemirror_mode": {
    "name": "ipython",
    "version": 3
   },
   "file_extension": ".py",
   "mimetype": "text/x-python",
   "name": "python",
   "nbconvert_exporter": "python",
   "pygments_lexer": "ipython3",
   "version": "3.7.3"
  }
 },
 "nbformat": 4,
 "nbformat_minor": 2
}
