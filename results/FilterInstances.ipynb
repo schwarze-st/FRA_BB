{
 "cells": [
  {
   "cell_type": "markdown",
   "metadata": {},
   "source": [
    "# Filter the granular test bed for Section 5.3\n",
    "required data:\n",
    "- `collection_names.txt`: Names of all instances from MIPLIB 2017\n",
    "- `The Infeasible Tag.xlsx`: Table, containing all infeasible instances from MIPLIB 2017\n",
    "- `filter_collection_dataframe.pickle`: Dataframe with merged output of filter_instances.py\n",
    "- `filter_collection_log.txt`: Logging file from the run of filter_instances.py"
   ]
  },
  {
   "cell_type": "code",
   "execution_count": 1,
   "metadata": {},
   "outputs": [],
   "source": [
    "import pandas as pd\n",
    "import pickle\n",
    "import copy"
   ]
  },
  {
   "cell_type": "code",
   "execution_count": 2,
   "metadata": {},
   "outputs": [
    {
     "name": "stdout",
     "output_type": "stream",
     "text": [
      "There are 1065 instances in MIPLIB 2017\n"
     ]
    }
   ],
   "source": [
    "collection = []\n",
    "with open(r'filter_instances/collection_names.txt', 'r') as fp:\n",
    "    for line in fp:\n",
    "        x = line[:-1]\n",
    "        collection.append(x)\n",
    "print('There are '+str(len(set(collection)))+ ' instances in MIPLIB 2017')"
   ]
  },
  {
   "cell_type": "markdown",
   "metadata": {},
   "source": [
    "We remove all infesible instances"
   ]
  },
  {
   "cell_type": "code",
   "execution_count": 3,
   "metadata": {},
   "outputs": [
    {
     "name": "stdout",
     "output_type": "stream",
     "text": [
      "There are 45 infeasible instances\n",
      "There are 1020 instances remaining in our testbed\n"
     ]
    }
   ],
   "source": [
    "inf_inst = pd.read_excel('filter_instances/The Infeasible Tag.xlsx')\n",
    "inf = list(inf_inst.iloc[:,0])\n",
    "print('There are '+ str(len(inf))+' infeasible instances')\n",
    "\n",
    "for instance in inf:\n",
    "    collection.remove(instance)\n",
    "\n",
    "print('There are '+ str(len(collection))+ ' instances remaining in our testbed')"
   ]
  },
  {
   "cell_type": "markdown",
   "metadata": {},
   "source": [
    "Read the results of filter_instances.py"
   ]
  },
  {
   "cell_type": "code",
   "execution_count": 4,
   "metadata": {},
   "outputs": [],
   "source": [
    "df = pd.read_pickle('filter_instances/filter_collection_dataframe')"
   ]
  },
  {
   "cell_type": "markdown",
   "metadata": {},
   "source": [
    "Filter instances, where the heuristic was not executed within half an hour"
   ]
  },
  {
   "cell_type": "code",
   "execution_count": 5,
   "metadata": {},
   "outputs": [
    {
     "name": "stdout",
     "output_type": "stream",
     "text": [
      "There are 208 instances, where SCIP did not start our heuristic within half an hour\n"
     ]
    }
   ],
   "source": [
    "did_not_run = copy.copy(collection) \n",
    "\n",
    "for word in df.index:\n",
    "    if word in did_not_run:\n",
    "        did_not_run.remove(word)\n",
    "\n",
    "print('There are '+str(len(did_not_run))+ ' instances, where SCIP did not start our heuristic within half an hour')\n",
    "\n",
    "# Check: Was every instance from did_not_run called in our script?\n",
    "datei = open('filter_instances/filter_collection_log','r')\n",
    "words = []\n",
    "for zeile in datei:\n",
    "    words = words + zeile.split()\n",
    "for instance in did_not_run:\n",
    "    if instance+'.mps' not in words:\n",
    "        print(str(instance)+' was not called in our script') "
   ]
  },
  {
   "cell_type": "code",
   "execution_count": 6,
   "metadata": {},
   "outputs": [
    {
     "name": "stdout",
     "output_type": "stream",
     "text": [
      "Filter  491  instances with equality constraints\n",
      "Filter  192  instances with empty inner parallel set in root not (non-granular)\n",
      "Filter  1 instances, where our heuristic did not finish within the run time\n",
      "------------------------------------------------------------------\n",
      "The granular test bed contains  128  instances.\n"
     ]
    }
   ],
   "source": [
    "df_temp = df[df['eq_constrs']==True]\n",
    "eq_constr = list(df_temp.index)\n",
    "print('Filter ',len(eq_constr),' instances with equality constraints')\n",
    "df_temp = df[(df['eq_constrs']==False) & (df['ips_nonempty'] == False)]\n",
    "ips_empty = list(df_temp.index)\n",
    "print('Filter ',len(ips_empty),' instances with empty inner parallel set in root not (non-granular)')\n",
    "df_temp = df[(df['ips_nonempty'] == 'timelimit')] # FRA was called, but did not finish in time limit\n",
    "time_limit = list(df_temp.index)\n",
    "print('Filter ', len(time_limit), 'instances, where our heuristic did not finish within the run time')\n",
    "df_temp = df[(df['eq_constrs']==False) & (df['ips_nonempty'] == True)]\n",
    "granular = list(df_temp.index)\n",
    "print('------------------------------------------------------------------')\n",
    "print('The granular test bed contains ',len(granular), ' instances.')"
   ]
  },
  {
   "cell_type": "code",
   "execution_count": 7,
   "metadata": {
    "scrolled": true
   },
   "outputs": [
    {
     "name": "stdout",
     "output_type": "stream",
     "text": [
      "Then length of all our lists is 1065\n",
      "They contain 1065 unique elements\n",
      "The collection set had 1065 instances\n"
     ]
    }
   ],
   "source": [
    "print('Then length of all our lists is ' +str(len(eq_constr+ips_empty+granular+did_not_run+inf+time_limit)))\n",
    "print('They contain '+str(len(set(eq_constr+ips_empty+granular+did_not_run+inf+time_limit)))+ ' unique elements')\n",
    "print('The collection set had 1065 instances')"
   ]
  },
  {
   "cell_type": "markdown",
   "metadata": {},
   "source": [
    "Write the test bed to a file"
   ]
  },
  {
   "cell_type": "code",
   "execution_count": 8,
   "metadata": {},
   "outputs": [],
   "source": [
    "with open(r'../testbed/granular_testbed.txt', 'w') as fp:\n",
    "    for name in granular:\n",
    "        fp.write(\"%s\\n\" % name)"
   ]
  },
  {
   "cell_type": "markdown",
   "metadata": {},
   "source": [
    "print the test bed:"
   ]
  },
  {
   "cell_type": "code",
   "execution_count": 9,
   "metadata": {},
   "outputs": [
    {
     "name": "stdout",
     "output_type": "stream",
     "text": [
      "Granular testbed:\n",
      " ['a2c1s1', '30_70_45_095_100', 'markshare_5_0', 'neos-787933', 'set3-09', 'p200x1188c', 'supportcase20', 'set3-20', 'iis-hc-cov', 'sp150x300d', 'neos-983171', 'b1c1s1', 'mik-250-20-75-3', 'neos-1445743', 'n13-3', 'khb05250', 'mik-250-20-75-5', 'gen-ip021', 'opm2-z12-s8', 'opm2-z6-s1', 'seymour', 'beasleyC2', 'gsvm2rl3', 'n3700', 'ger50-17-trans-dfn-3t', 'beasleyC3', 'buildingenergy', 'mik-250-20-75-2', 'neos-4954672-berkel', 'k16x240b', 'neos-3118745-obra', 'mc11', 'ger50-17-ptp-pop-6t', 'ger50-17-trans-pop-3t', 'markshare2', 'neos-3611689-kaihu', 'set3-10', 'mc7', 'n6-3', 'gen-ip054', 'adult-regularized', 'ns4-pr6', 'neos-1367061', 'bg512142', 'ger50-17-ptp-pop-3t', 'neos-1445765', 'gen-ip002', 'neos-3611447-jijia', 'gsvm2rl9', 'p500x2988', 'sorrell3', 'neos17', 'opm2-z10-s4', 'ramos3', 'sorrell7', 'b2c1s1', 'iis-glass-cov', 'breastcancer-regularized', 'app2-2', 'ran14x18-disj-8', 'opm2-z8-s0', 'g200x740', 'scpj4scip', 'sorrell8', 'gsvm2rl12', 'n370b', 'n7-3', 'beasleyC1', 'manna81', 'seymour1', 'mik-250-20-75-4', 'supportcase39', 'ran13x13', 'ex1010-pi', 'v150d30-2hopcds', 'stockholm', 'cod105', 'brasil', 'app2-1', 'ger50_17_trans', 'queens-30', 'a1c1s1', 'set3-16', 'n9-3', 'core2586-950', 'core2536-691', '30_70_45_05_100', 'mushroom-best', 'ran12x21', 'fast0507', 'neos-848198', 'neos-3610051-istra', 'n3705', 'gr4x6', 'scpk4', 'qiu', 'berlin', 'gsvm2rl11', 'gsvm2rl5', 'neos-1112787', 'markshare1', 'neos5', 'r50x360', 'scpl4', 'dg012142', 'opm2-z7-s8', 'n3707', 'haprp', 'germany50-UUM', 'nexp-150-20-1-5', 'supportcase42', 'gen-ip036', 'n3709', 'mc8', 'mik-250-20-75-1', '50v-10', 'npmv07', 'ta1-UUM', 'glass-sc', 'set3-15', 'z26', 'markshare_4_0', 'neos-1112782', 'gen-ip016', '30_70_45_095_98', 'neos-3610040-iskar', 'n5-3', 'neos-3610173-itata']\n"
     ]
    }
   ],
   "source": [
    "print('Granular testbed:\\n', str(granular))"
   ]
  }
 ],
 "metadata": {
  "kernelspec": {
   "display_name": "Python 3",
   "language": "python",
   "name": "python3"
  },
  "language_info": {
   "codemirror_mode": {
    "name": "ipython",
    "version": 3
   },
   "file_extension": ".py",
   "mimetype": "text/x-python",
   "name": "python",
   "nbconvert_exporter": "python",
   "pygments_lexer": "ipython3",
   "version": "3.8.5"
  }
 },
 "nbformat": 4,
 "nbformat_minor": 4
}
